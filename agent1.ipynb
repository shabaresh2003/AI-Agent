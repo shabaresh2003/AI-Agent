{
 "cells": [
  {
   "cell_type": "code",
   "execution_count": 59,
   "metadata": {},
   "outputs": [],
   "source": [
    "from phi.agent import Agent \n",
    "from phi.model.groq import Groq\n",
    "from dotenv import load_dotenv\n",
    "from phi.tools.duckduckgo import DuckDuckGo\n",
    "from phi.tools.yfinance import YFinanceTools\n",
    "from phi.model.huggingface import HuggingFaceChat"
   ]
  },
  {
   "cell_type": "code",
   "execution_count": 65,
   "metadata": {},
   "outputs": [],
   "source": [
    "# from phi.agent import Agent, RunResponse\n",
    "# from phi.model.google import Gemini\n",
    "# load_dotenv()\n",
    "\n",
    "GOOGLE_API_KEY = os.getenv(\"GOOGLE_API_KEY\")\n",
    "agent = Agent(\n",
    "     model=Gemini(id=\"gemini-1.5-flash\"),\n",
    "     api_key = GOOGLE_API_KEY,\n",
    "     markdown=True,\n",
    ")"
   ]
  },
  {
   "cell_type": "code",
   "execution_count": 61,
   "metadata": {},
   "outputs": [],
   "source": [
    "# # import os\n",
    "# # os.environ[\"GROQ_API_KEY\"] = \"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\"\n",
    "# # agent = Agent(\n",
    "# #     model = Groq(id=\"llama3-8b-8192\")\n",
    "# # )\n",
    "# RunResponse = agent.run(\"Give me symbol of apple company in stock market\")\n",
    "# print(RunResponse.content)"
   ]
  },
  {
   "cell_type": "code",
   "execution_count": 62,
   "metadata": {},
   "outputs": [],
   "source": [
    "# web_agent = Agent(\n",
    "#     name=\"Web Agent\",\n",
    "#     model=Groq(id=\"gemma2-9b-it\"),\n",
    "#     tools=[DuckDuckGo()],\n",
    "#     instructions=[\"Always include sources\"],\n",
    "#     show_tool_calls=True,\n",
    "#     markdown=True,\n",
    "# )\n",
    "# web_agent.print_response(\"What is phidata\", stream=True)\n"
   ]
  },
  {
   "cell_type": "code",
   "execution_count": 63,
   "metadata": {},
   "outputs": [],
   "source": [
    "# finance_agent = Agent(\n",
    "#     model=Gemini(id=\"gemini-1.5-flash\"),\n",
    "#     api_key = GOOGLE_API_KEY,\n",
    "#     tools=[YFinanceTools(stock_price=True, analyst_recommendations=True, company_info=True, company_news=True)],\n",
    "#     instructions=[\"Use tables to display data\"],\n",
    "#     show_tool_calls=True,\n",
    "#     markdown=True,\n",
    "# )\n",
    "# finance_agent.print_response(\"Summarize analyst recommendations for NVDA\", stream=True)"
   ]
  },
  {
   "cell_type": "code",
   "execution_count": null,
   "metadata": {},
   "outputs": [],
   "source": []
  },
  {
   "cell_type": "code",
   "execution_count": 66,
   "metadata": {},
   "outputs": [
    {
     "data": {
      "application/vnd.jupyter.widget-view+json": {
       "model_id": "7fa6b03b686a469ea417e55b9daee438",
       "version_major": 2,
       "version_minor": 0
      },
      "text/plain": [
       "Output()"
      ]
     },
     "metadata": {},
     "output_type": "display_data"
    },
    {
     "data": {
      "text/html": [
       "<pre style=\"white-space:pre;overflow-x:auto;line-height:normal;font-family:Menlo,'DejaVu Sans Mono',consolas,'Courier New',monospace\"></pre>\n"
      ],
      "text/plain": []
     },
     "metadata": {},
     "output_type": "display_data"
    }
   ],
   "source": [
    "from phi.agent import Agent\n",
    "from phi.model.openai import OpenAIChat\n",
    "from phi.model.groq import Groq\n",
    "from phi.tools.duckduckgo import DuckDuckGo\n",
    "from phi.tools.yfinance import YFinanceTools\n",
    "from dotenv import load_dotenv\n",
    "\n",
    "load_dotenv()\n",
    "\n",
    "web_agent = Agent(\n",
    "    name=\"Web Agent\",\n",
    "    model=Groq(id=\"llama-3.3-70b-versatile\"),\n",
    "    tools=[DuckDuckGo()],\n",
    "    instructions=[\"Always include sources\"],\n",
    "    show_tool_calls=True,\n",
    "    markdown=True\n",
    ")\n",
    "\n",
    "finance_agent = Agent(\n",
    "    name=\"Finance Agent\",\n",
    "    role=\"Get financial data\",\n",
    "    model=Groq(id=\"llama-3.3-70b-versatile\"),\n",
    "    tools=[YFinanceTools(stock_price=True, analyst_recommendations=True, company_info=True)],\n",
    "    instructions=[\"Use tables to display data\"],\n",
    "    show_tool_calls=True,\n",
    "    markdown=True,\n",
    ")\n",
    "\n",
    "agent_team = Agent(\n",
    "    model=Groq(id=\"llama-3.3-70b-versatile\"),\n",
    "    team=[web_agent, finance_agent],\n",
    "    instructions=[\"Always include sources\", \"Use tables to display data\"],\n",
    "    show_tool_calls=True,\n",
    "    markdown=True,\n",
    ")\n",
    "\n",
    "agent_team.print_response(\"Summarize analyst recommendations and share the latest news for NVDA\", stream=True)"
   ]
  },
  {
   "cell_type": "code",
   "execution_count": null,
   "metadata": {},
   "outputs": [
    {
     "data": {
      "text/html": [
       "<pre style=\"white-space:pre;overflow-x:auto;line-height:normal;font-family:Menlo,'DejaVu Sans Mono',consolas,'Courier New',monospace\"><span style=\"color: #000080; text-decoration-color: #000080\">INFO    </span> Starting playground on <span style=\"color: #0000ff; text-decoration-color: #0000ff; text-decoration: underline\">http://localhost:7777</span>                                                              \n",
       "</pre>\n"
      ],
      "text/plain": [
       "\u001b[34mINFO    \u001b[0m Starting playground on \u001b[4;94mhttp://localhost:7777\u001b[0m                                                              \n"
      ]
     },
     "metadata": {},
     "output_type": "display_data"
    },
    {
     "data": {
      "text/html": [
       "<pre style=\"white-space:pre;overflow-x:auto;line-height:normal;font-family:Menlo,'DejaVu Sans Mono',consolas,'Courier New',monospace\"><span style=\"color: #008080; text-decoration-color: #008080\">┏━━━━━━━━━━━━━━━━━━━━━━━ Agent Playground ━━━━━━━━━━━━━━━━━━━━━━━━┓</span>\n",
       "<span style=\"color: #008080; text-decoration-color: #008080\">┃</span>                                                                 <span style=\"color: #008080; text-decoration-color: #008080\">┃</span>\n",
       "<span style=\"color: #008080; text-decoration-color: #008080\">┃</span>                                                                 <span style=\"color: #008080; text-decoration-color: #008080\">┃</span>\n",
       "<span style=\"color: #008080; text-decoration-color: #008080\">┃</span>  <span style=\"color: #008000; text-decoration-color: #008000; font-weight: bold\">URL:</span> <a href=\"https://phidata.app/playground?endpoint=localhost%3A7777\" target=\"_blank\">https://phidata.app/playground?endpoint=localhost%3A7777</a>  <span style=\"color: #008080; text-decoration-color: #008080\">┃</span>\n",
       "<span style=\"color: #008080; text-decoration-color: #008080\">┃</span>                                                                 <span style=\"color: #008080; text-decoration-color: #008080\">┃</span>\n",
       "<span style=\"color: #008080; text-decoration-color: #008080\">┃</span>                                                                 <span style=\"color: #008080; text-decoration-color: #008080\">┃</span>\n",
       "<span style=\"color: #008080; text-decoration-color: #008080\">┗━━━━━━━━━━━━━━━━━━━━━━━━━━━━━━━━━━━━━━━━━━━━━━━━━━━━━━━━━━━━━━━━━┛</span>\n",
       "</pre>\n"
      ],
      "text/plain": [
       "\u001b[36m┏━\u001b[0m\u001b[36m━━━━━━━━━━━━━━━━━━━━━━\u001b[0m\u001b[36m Agent Playground \u001b[0m\u001b[36m━━━━━━━━━━━━━━━━━━━━━━━\u001b[0m\u001b[36m━┓\u001b[0m\n",
       "\u001b[36m┃\u001b[0m                                                                 \u001b[36m┃\u001b[0m\n",
       "\u001b[36m┃\u001b[0m                                                                 \u001b[36m┃\u001b[0m\n",
       "\u001b[36m┃\u001b[0m  \u001b[1;32mURL:\u001b[0m \u001b]8;id=3409;https://phidata.app/playground?endpoint=localhost%3A7777\u001b\\https://phidata.app/playground?endpoint=localhost%3A7777\u001b]8;;\u001b\\  \u001b[36m┃\u001b[0m\n",
       "\u001b[36m┃\u001b[0m                                                                 \u001b[36m┃\u001b[0m\n",
       "\u001b[36m┃\u001b[0m                                                                 \u001b[36m┃\u001b[0m\n",
       "\u001b[36m┗━━━━━━━━━━━━━━━━━━━━━━━━━━━━━━━━━━━━━━━━━━━━━━━━━━━━━━━━━━━━━━━━━┛\u001b[0m\n"
      ]
     },
     "metadata": {},
     "output_type": "display_data"
    },
    {
     "name": "stderr",
     "output_type": "stream",
     "text": [
      "INFO:     Will watch for changes in these directories: ['c:\\\\Users\\\\Vulloju shabaresh\\\\OneDrive\\\\Desktop\\\\Major_project_ideas\\\\llm\\\\Agents']\n",
      "INFO:     Uvicorn running on http://localhost:7777 (Press CTRL+C to quit)\n",
      "INFO:     Started reloader process [23032] using StatReload\n"
     ]
    }
   ],
   "source": [
    "from phi.playground import Playground, serve_playground_app\n",
    "app = Playground(agents=[finance_agent, web_agent]).get_app()\n",
    "if __name__ == \"__main__\":\n",
    "    serve_playground_app(\"playground:app\", reload=True)"
   ]
  },
  {
   "cell_type": "code",
   "execution_count": 1,
   "metadata": {},
   "outputs": [],
   "source": [
    "import requests\n",
    "\n",
    "API_URL = \"https://api-inference.huggingface.co/models/dslim/bert-base-NER\"\n",
    "headers = {\"Authorization\": \"Bearer hf_***\"}\n",
    "\n",
    "def query(payload):\n",
    "\tresponse = requests.post(API_URL, headers=headers, json=payload)\n",
    "\treturn response.json()\n",
    "\t\n",
    "output = query({\n",
    "\t\"inputs\": \"My name is Sarah Jessica Parker but you can call me Jessica\",\n",
    "})"
   ]
  },
  {
   "cell_type": "code",
   "execution_count": 2,
   "metadata": {},
   "outputs": [
    {
     "name": "stdout",
     "output_type": "stream",
     "text": [
      "{'error': 'Authorization header is correct, but the token seems invalid'}\n"
     ]
    }
   ],
   "source": [
    "print(output)"
   ]
  },
  {
   "cell_type": "code",
   "execution_count": null,
   "metadata": {},
   "outputs": [],
   "source": []
  }
 ],
 "metadata": {
  "kernelspec": {
   "display_name": "Python 3",
   "language": "python",
   "name": "python3"
  },
  "language_info": {
   "codemirror_mode": {
    "name": "ipython",
    "version": 3
   },
   "file_extension": ".py",
   "mimetype": "text/x-python",
   "name": "python",
   "nbconvert_exporter": "python",
   "pygments_lexer": "ipython3",
   "version": "3.12.2"
  }
 },
 "nbformat": 4,
 "nbformat_minor": 2
}
